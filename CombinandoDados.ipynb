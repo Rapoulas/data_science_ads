{
  "nbformat": 4,
  "nbformat_minor": 0,
  "metadata": {
    "colab": {
      "provenance": [],
      "authorship_tag": "ABX9TyN7DVeu/Sm09PEjFuoucqsB",
      "include_colab_link": true
    },
    "kernelspec": {
      "name": "python3",
      "display_name": "Python 3"
    },
    "language_info": {
      "name": "python"
    }
  },
  "cells": [
    {
      "cell_type": "markdown",
      "metadata": {
        "id": "view-in-github",
        "colab_type": "text"
      },
      "source": [
        "<a href=\"https://colab.research.google.com/github/Rapoulas/data_science_ads/blob/master/CombinandoDados.ipynb\" target=\"_parent\"><img src=\"https://colab.research.google.com/assets/colab-badge.svg\" alt=\"Open In Colab\"/></a>"
      ]
    },
    {
      "cell_type": "code",
      "execution_count": 3,
      "metadata": {
        "colab": {
          "base_uri": "https://localhost:8080/"
        },
        "id": "j-1hAATEuSQK",
        "outputId": "7ee134f2-e57e-4336-b57a-b2bfd83c25e0"
      },
      "outputs": [
        {
          "output_type": "stream",
          "name": "stdout",
          "text": [
            "  loja  dia  valor\n",
            "0    A  sex   7500\n",
            "1    A  sab   9500\n",
            "2    A  dom   8200\n",
            "3    B  sex   5100\n",
            "4    B  sab   8250\n",
            "5    B  dom   9900\n",
            "6    C  sab   7500\n",
            "7    C  dom  11800\n"
          ]
        }
      ],
      "source": [
        "import pandas as pd\n",
        "\n",
        "lojaA = pd.DataFrame({\"loja\": [\"A\", \"A\", \"A\"],\n",
        "                      \"dia\": [\"sex\", \"sab\", \"dom\"],\n",
        "                      \"valor\": [7500, 9500, 8200]}\n",
        "                     )\n",
        "\n",
        "lojaB = pd.DataFrame({\"loja\": [\"B\", \"B\", \"B\"],\n",
        "                      \"dia\": [\"sex\", \"sab\", \"dom\"],\n",
        "                      \"valor\": [5100, 8250, 9900]}\n",
        "                     )\n",
        "\n",
        "lojaC = pd.DataFrame({\"loja\": [\"C\", \"C\"],\n",
        "                      \"dia\": [\"sab\", \"dom\"],\n",
        "                      \"valor\": [7500, 11800]}\n",
        "                     )\n",
        "\n",
        "lojaABC = pd.concat([lojaA, lojaB, lojaC], ignore_index = True)\n",
        "print(lojaABC)"
      ]
    },
    {
      "cell_type": "code",
      "source": [
        "import pandas as pd\n",
        "\n",
        "d1 = pd.DataFrame({\"carro\": [\"Hyundai\", \"Renault\", \"Fiat\"]})\n",
        "d2 = pd.DataFrame({\"animal\": [\"Capivara\", \"Bem-ti-vi\", ]})\n",
        "\n",
        "d3 = pd.concat([d1, d2], ignore_index=True, sort=False)\n",
        "print(d3)"
      ],
      "metadata": {
        "colab": {
          "base_uri": "https://localhost:8080/"
        },
        "id": "QDaJaD6c1bpT",
        "outputId": "fcd493e3-bdd6-4cad-803d-83961fd7593f"
      },
      "execution_count": 6,
      "outputs": [
        {
          "output_type": "stream",
          "name": "stdout",
          "text": [
            "     carro     animal\n",
            "0  Hyundai        NaN\n",
            "1  Renault        NaN\n",
            "2     Fiat        NaN\n",
            "3      NaN   Capivara\n",
            "4      NaN  Bem-ti-vi\n"
          ]
        }
      ]
    },
    {
      "cell_type": "code",
      "source": [
        "import pandas as pd\n",
        "\n",
        "df_sql = pd.DataFrame({\"email\": [\"elza.=_peioto@astconsult.com.br\", \"carlos_pires@piscinasegura.com.br\"]})\n",
        "\n",
        "df_python = pd.DataFrame({\"email\": [\"elza.=_peioto@astconsult.com.br\", \"roberto_moreira@gruporeis.net\", \"alice.nicole.barbosa@bb.com.br\"]})\n",
        "\n",
        "alunos = pd.concat([df_sql, df_python], ignore_index=True)\n",
        "alunos = alunos.drop_duplicates()\n",
        "\n",
        "sql_e_python = df_sql.merge(df_python)\n",
        "\n",
        "so_sql = df_sql[df_sql.email.isin(df_python)==False]\n",
        "so_python = df_python[df_python.email.isin(df_sql.email)==False]"
      ],
      "metadata": {
        "id": "v5xjd9GdJbaP"
      },
      "execution_count": 10,
      "outputs": []
    },
    {
      "cell_type": "code",
      "source": [
        "import pandas as pd\n",
        "from google.colab import drive\n",
        "drive.mount('/content/drive')"
      ],
      "metadata": {
        "colab": {
          "base_uri": "https://localhost:8080/"
        },
        "id": "5ybudNRlOOiS",
        "outputId": "e0b3c36c-cb26-49e0-9389-52b6144fd0f4"
      },
      "execution_count": 11,
      "outputs": [
        {
          "output_type": "stream",
          "name": "stdout",
          "text": [
            "Mounted at /content/drive\n"
          ]
        }
      ]
    },
    {
      "cell_type": "code",
      "source": [
        "flags = pd.read_csv(\"/content/drive/MyDrive/MaterialApoio/flags.csv\")\n",
        "countries = pd.read_csv(\"/content/drive/MyDrive/MaterialApoio/countries.csv\")\n",
        "\n",
        "num_linhas_flag = flags.shape[0]\n",
        "num_linh_country = countries.shape[0]\n",
        "\n",
        "ambas = pd.merge(flags, countries, how=\"inner\", left_on=\"name\", right_on=\"country\")\n",
        "num_linhas_ambas = ambas.shape[0]\n",
        "\n",
        "so_flags = pd.merge(flags, countries, how=\"left\", left_on=\"name\", right_on=\"country\")\n",
        "so_flags = so_flags[pd.isnull(so_flags['country'])==True]\n",
        "\n",
        "\n",
        "so_countries = pd.merge(flags, countries, how=\"right\", left_on=\"name\", right_on=\"country\")\n",
        "so_countries = so_countries[pd.isnull(so_countries['name'])==True]"
      ],
      "metadata": {
        "id": "aAyCqP8zOanz"
      },
      "execution_count": null,
      "outputs": []
    }
  ]
}