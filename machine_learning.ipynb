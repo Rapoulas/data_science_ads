{
  "nbformat": 4,
  "nbformat_minor": 0,
  "metadata": {
    "colab": {
      "provenance": [],
      "authorship_tag": "ABX9TyOhp7rQ9YfW4cWGaMbCul/5",
      "include_colab_link": true
    },
    "kernelspec": {
      "name": "python3",
      "display_name": "Python 3"
    },
    "language_info": {
      "name": "python"
    }
  },
  "cells": [
    {
      "cell_type": "markdown",
      "metadata": {
        "id": "view-in-github",
        "colab_type": "text"
      },
      "source": [
        "<a href=\"https://colab.research.google.com/github/Rapoulas/data_science_ads/blob/master/machine_learning.ipynb\" target=\"_parent\"><img src=\"https://colab.research.google.com/assets/colab-badge.svg\" alt=\"Open In Colab\"/></a>"
      ]
    },
    {
      "cell_type": "code",
      "execution_count": 1,
      "metadata": {
        "colab": {
          "base_uri": "https://localhost:8080/"
        },
        "id": "wxiB2lIEPoot",
        "outputId": "5c4e4486-578d-406d-f25a-f90fc96b8918"
      },
      "outputs": [
        {
          "output_type": "stream",
          "name": "stdout",
          "text": [
            "Mounted at /content/drive\n"
          ]
        }
      ],
      "source": [
        "from sklearn.neighbors import KNeighborsClassifier\n",
        "import pandas as pd\n",
        "from google.colab import drive\n",
        "drive.mount('/content/drive')\n",
        "flags = pd.read_csv(\"/content/drive/MyDrive/MaterialApoio/flags_transformado.csv\")"
      ]
    },
    {
      "cell_type": "code",
      "source": [
        "k = 3\n",
        "\n",
        "labels = ['red', 'green', 'blue', 'gold', 'white', 'black', 'orange']\n",
        "\n",
        "q = len(labels)\n",
        "\n",
        "N = flags.shape[0]\n",
        "\n",
        "for j in range(0, q):\n",
        "  print('processando o rótulo', labels[j])\n",
        "  mc = pd.DataFrame({'predito_nao':[0,0],\n",
        "                     'predito_sim':[0,0]},\n",
        "                    index = ['real_nao', 'real_sim'])\n",
        "\n",
        "  X = flags.drop(colums=labels)\n",
        "  Y = flags[labels[j]]\n",
        "\n",
        "  for i in range(0, N):\n",
        "    X_treino = X.drop[i]\n",
        "    Y_treino = Y.drop[i]\n",
        "\n",
        "    X_test = X.iLoc[[i],:]\n",
        "    Y_test = X.iLoc[[i]]\n",
        "\n",
        "    modelo = KNeighborsClassifier(n_neighbors=k)\n",
        "    modelo.fit(X_treino, Y_treino)\n",
        "\n",
        "    pred = modelo.predict(X_test)[0]\n",
        "\n",
        "    if (Y_test.iLoc[0] == 0 ):\n",
        "      if (pred == 0):\n",
        "        mc.loc['real_nao', 'predito_nao'] += 1\n",
        "      if (pred == 1):\n",
        "        mc.loc['real_nao', 'predito_sim'] += 1\n",
        "    else:\n",
        "      if (pred == 0):\n",
        "        mc.loc['real_sim', 'predito_nao'] += 1\n",
        "      if (pred == 1):\n",
        "        mc.loc['real_sim', 'predito_sim'] += 1\n",
        "\n",
        "print(mc)\n",
        "acuracia = (mc.loc['real_nao', 'predito_nao']+mc.loc['real_sim', 'predito_sim'])/N\n",
        "print(round(acuracia, 2))"
      ],
      "metadata": {
        "id": "1NzSQTpLRGfp"
      },
      "execution_count": null,
      "outputs": []
    }
  ]
}