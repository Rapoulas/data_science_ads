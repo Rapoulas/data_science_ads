{
  "nbformat": 4,
  "nbformat_minor": 0,
  "metadata": {
    "colab": {
      "provenance": [],
      "authorship_tag": "ABX9TyOZk9F03lDEiF1PqpG/mDef",
      "include_colab_link": true
    },
    "kernelspec": {
      "name": "python3",
      "display_name": "Python 3"
    },
    "language_info": {
      "name": "python"
    }
  },
  "cells": [
    {
      "cell_type": "markdown",
      "metadata": {
        "id": "view-in-github",
        "colab_type": "text"
      },
      "source": [
        "<a href=\"https://colab.research.google.com/github/Rapoulas/data_science_ads/blob/master/Atividade.ipynb\" target=\"_parent\"><img src=\"https://colab.research.google.com/assets/colab-badge.svg\" alt=\"Open In Colab\"/></a>"
      ]
    },
    {
      "cell_type": "code",
      "execution_count": 8,
      "metadata": {
        "id": "0fW9FE4Zlx0V"
      },
      "outputs": [],
      "source": [
        "import pandas as pd\n",
        "import matplotlib.pyplot as plt"
      ]
    },
    {
      "cell_type": "code",
      "source": [
        "from google.colab import drive\n",
        "drive.mount('/content/drive')"
      ],
      "metadata": {
        "colab": {
          "base_uri": "https://localhost:8080/"
        },
        "collapsed": true,
        "id": "zk3O6J3xl1DK",
        "outputId": "9f2227e3-81e3-4c70-e865-7f72a0be5cf1"
      },
      "execution_count": 3,
      "outputs": [
        {
          "output_type": "stream",
          "name": "stdout",
          "text": [
            "Drive already mounted at /content/drive; to attempt to forcibly remount, call drive.mount(\"/content/drive\", force_remount=True).\n",
            "   idade  custo1  custo2\n",
            "0     18     871     760\n",
            "1     23    1132     980\n",
            "2     28    1242    1110\n",
            "3     33    1356    1230\n",
            "4     38    1488    1340\n",
            "5     43    1638    1470\n",
            "6     48    2130    1800\n",
            "7     53    2454    2200\n",
            "8     58    3066    2890\n",
            "9     63    4090    3980\n"
          ]
        }
      ]
    },
    {
      "cell_type": "code",
      "source": [
        "df = pd.read_csv('/content/drive/MyDrive/MaterialApoio/plano_saude.csv')\n",
        "\n",
        "print(df)"
      ],
      "metadata": {
        "colab": {
          "base_uri": "https://localhost:8080/"
        },
        "id": "cQMl1ZKwmXbf",
        "outputId": "f447cacc-446a-4c06-f611-2f2e811d6a0d"
      },
      "execution_count": 4,
      "outputs": [
        {
          "output_type": "stream",
          "name": "stdout",
          "text": [
            "   idade  custo1  custo2\n",
            "0     18     871     760\n",
            "1     23    1132     980\n",
            "2     28    1242    1110\n",
            "3     33    1356    1230\n",
            "4     38    1488    1340\n",
            "5     43    1638    1470\n",
            "6     48    2130    1800\n",
            "7     53    2454    2200\n",
            "8     58    3066    2890\n",
            "9     63    4090    3980\n"
          ]
        }
      ]
    },
    {
      "cell_type": "code",
      "source": [
        "meanCusto1 = df['custo1'].mean()\n",
        "meanCusto2 = df['custo2'].mean()\n",
        "\n",
        "medianCusto1 = df['custo1'].median()\n",
        "medianCusto2 = df['custo2'].median()\n",
        "\n",
        "modeCusto1 = df['custo1'].mode()\n",
        "modeCusto2 = df['custo2'].mode()\n",
        "\n",
        "stdCusto1 = df['custo1'].std()\n",
        "stdCusto2 = df['custo2'].std()\n",
        "\n",
        "print(\"Média custo1:\", meanCusto1)\n",
        "print(\"Média custo2:\", meanCusto2)\n",
        "print(\"Mediana custo1:\", medianCusto1)\n",
        "print(\"Mediana custo2:\", medianCusto2)\n",
        "print(\"Moda custo1:\", modeCusto1.values)\n",
        "print(\"Moda custo2:\", modeCusto2.values)\n",
        "print(\"Desvio padrão custo1:\", stdCusto1)\n",
        "print(\"Desvio padrão custo2:\", stdCusto2)"
      ],
      "metadata": {
        "colab": {
          "base_uri": "https://localhost:8080/"
        },
        "id": "62KKNM1rmpq3",
        "outputId": "c8b85e73-a69e-4c5b-df48-5c8835b16a40"
      },
      "execution_count": 6,
      "outputs": [
        {
          "output_type": "stream",
          "name": "stdout",
          "text": [
            "Média custo1: 1946.7\n",
            "Média custo2: 1776.0\n",
            "Mediana custo1: 1563.0\n",
            "Mediana custo2: 1405.0\n",
            "Moda custo1: [ 871 1132 1242 1356 1488 1638 2130 2454 3066 4090]\n",
            "Moda custo2: [ 760  980 1110 1230 1340 1470 1800 2200 2890 3980]\n",
            "Desvio padrão custo1: 1006.0713526717013\n",
            "Desvio padrão custo2: 998.3452976467278\n"
          ]
        }
      ]
    },
    {
      "cell_type": "code",
      "source": [
        "comparacao = pd.DataFrame({\n",
        "    'Média': [df['custo1'].mean(), df['custo2'].mean()],\n",
        "    'Mediana': [df['custo1'].median(), df['custo2'].median()],\n",
        "    'Desvio Padrão': [df['custo1'].std(), df['custo2'].std()]\n",
        "}, index=['custo1', 'custo2'])\n",
        "\n",
        "print(comparacao)"
      ],
      "metadata": {
        "colab": {
          "base_uri": "https://localhost:8080/"
        },
        "id": "5rvQ9elYntF0",
        "outputId": "c975ccf8-d909-476c-c176-8fcf573fbcef"
      },
      "execution_count": 10,
      "outputs": [
        {
          "output_type": "stream",
          "name": "stdout",
          "text": [
            "Comparação estatística entre custo1 e custo2:\n",
            "\n",
            "         Média  Mediana  Desvio Padrão\n",
            "custo1  1946.7   1563.0    1006.071353\n",
            "custo2  1776.0   1405.0     998.345298\n"
          ]
        }
      ]
    },
    {
      "cell_type": "code",
      "source": [
        "plt.figure(figsize=(8,6))\n",
        "df[['custo1', 'custo2']].boxplot()\n",
        "plt.title('Comparação entre custo1 e custo2')\n",
        "plt.ylabel('Valor do custo')\n",
        "plt.show()"
      ],
      "metadata": {
        "colab": {
          "base_uri": "https://localhost:8080/",
          "height": 545
        },
        "id": "SJ_SaVZGnHzA",
        "outputId": "bdc556a0-6f34-4318-9db0-2ed7496d2230"
      },
      "execution_count": 11,
      "outputs": [
        {
          "output_type": "display_data",
          "data": {
            "text/plain": [
              "<Figure size 800x600 with 1 Axes>"
            ],
            "image/png": "[encoded data removed]"
          },
          "metadata": {}
        }
      ]
    }
  ]
}